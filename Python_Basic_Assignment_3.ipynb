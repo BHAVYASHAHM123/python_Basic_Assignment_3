{
  "nbformat": 4,
  "nbformat_minor": 0,
  "metadata": {
    "colab": {
      "name": "Python_Basic_Assignment_3.ipynb",
      "provenance": [],
      "collapsed_sections": []
    },
    "kernelspec": {
      "name": "python3",
      "display_name": "Python 3"
    },
    "language_info": {
      "name": "python"
    }
  },
  "cells": [
    {
      "cell_type": "markdown",
      "source": [
        "Q1) 1. Why are functions advantageous to have in your programs?\n",
        "\n",
        "Ans) Functions reduce the need for duplicate code. This makes programs shorter, easier to read, and easier to update"
      ],
      "metadata": {
        "id": "H8O9RTAs5fYb"
      }
    },
    {
      "cell_type": "markdown",
      "source": [
        "Q2). When does the code in a function run: when it's specified or when it's called?\n",
        "\n",
        "Ans) The code in a function run when it is called."
      ],
      "metadata": {
        "id": "t40qDI5D5zPC"
      }
    },
    {
      "cell_type": "code",
      "source": [
        "# Q3) What statement creates a function?\n",
        "\n",
        "# Ans) \n",
        "def test():\n",
        "  return "
      ],
      "metadata": {
        "id": "XsNhHrZK8OWb"
      },
      "execution_count": 2,
      "outputs": []
    },
    {
      "cell_type": "markdown",
      "source": [
        "Q4). What is the difference between a function and a function call?\n",
        "\n",
        "Ans) A function is procedure to achieve a particular result while function call is using this function to achive that task."
      ],
      "metadata": {
        "id": "fjwGzDq85y_a"
      }
    },
    {
      "cell_type": "markdown",
      "source": [
        "Q5). How many global scopes are there in a Python program? How many local scopes?\n",
        "\n",
        "Ans) There is only one global scope are there in python program."
      ],
      "metadata": {
        "id": "3a8VzfXe5yIt"
      }
    },
    {
      "cell_type": "markdown",
      "source": [
        "Q6). What happens to variables in a local scope when the function call returns?\n",
        "\n",
        "Ans) The local variables are destroyed."
      ],
      "metadata": {
        "id": "69_jo7ET7cP8"
      }
    },
    {
      "cell_type": "markdown",
      "source": [
        "Q7). What is the concept of a return value? Is it possible to have a return value in an expression?\n",
        "\n",
        "Ans) A return statement is used to end the execution of the function call and returns the result."
      ],
      "metadata": {
        "id": "5EgwXItu7cCP"
      }
    },
    {
      "cell_type": "markdown",
      "source": [
        "Q8). If a function does not have a return statement, what is the return value of a call to that function?\n",
        "\n",
        "Ans) If no return statement appears in a function definition, control automatically returns to the calling function after the last statement of the called function is executed."
      ],
      "metadata": {
        "id": "9wzZWWOr7b-4"
      }
    },
    {
      "cell_type": "markdown",
      "source": [
        "Q9). How do you make a function variable refer to the global variable?\n",
        "\n",
        "Ans)  use the global keyword to declare"
      ],
      "metadata": {
        "id": "VAFE6Kba7b3N"
      }
    },
    {
      "cell_type": "markdown",
      "source": [
        "Q10). What is the data type of None?\n",
        "\n",
        "Ans) return null value."
      ],
      "metadata": {
        "id": "JodPxglj7bkQ"
      }
    },
    {
      "cell_type": "markdown",
      "source": [
        "Q11). What does the sentence import areallyourpetsnamederic do? "
      ],
      "metadata": {
        "id": "3iFoN8D9-0d9"
      }
    },
    {
      "cell_type": "markdown",
      "source": [
        "Q12). If you had a bacon() feature in a spam module, what would you call it after importing spam?\n",
        "\n",
        "Ans) This function can be called with spam"
      ],
      "metadata": {
        "id": "EwdIo9Lf-0am"
      }
    },
    {
      "cell_type": "markdown",
      "source": [
        "Q13). What can you do to save a programme from crashing if it encounters an error?\n",
        "\n",
        "Ans)try except and finally we use"
      ],
      "metadata": {
        "id": "YKElCrj9-0Xm"
      }
    },
    {
      "cell_type": "markdown",
      "source": [
        "Q14). What is the purpose of the try clause? What is the purpose of the except clause?\n",
        "\n",
        "Ans) Try is used to run the code whether the code is having error or not.\n",
        "  Except is used to filter out specific results from a select statement."
      ],
      "metadata": {
        "id": "vVPHJ4Xn-0Fb"
      }
    },
    {
      "cell_type": "code",
      "source": [
        ""
      ],
      "metadata": {
        "id": "MGl_T93I6hZz"
      },
      "execution_count": null,
      "outputs": []
    }
  ]
}